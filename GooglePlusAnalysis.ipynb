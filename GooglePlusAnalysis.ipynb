{
 "cells": [
  {
   "cell_type": "markdown",
   "metadata": {
    "colab_type": "text",
    "id": "MknNtheQxYqE"
   },
   "source": [
    "# Проект №2. Исследование графа социальных связей"
   ]
  },
  {
   "cell_type": "markdown",
   "metadata": {
    "colab_type": "text",
    "id": "IyuZlwsTxYqG"
   },
   "source": [
    "## Подключение необходимых библиотек"
   ]
  },
  {
   "cell_type": "code",
   "execution_count": 2,
   "metadata": {
    "ExecuteTime": {
     "end_time": "2018-09-17T07:13:36.608861Z",
     "start_time": "2018-09-17T07:13:35.511126Z"
    },
    "colab": {},
    "colab_type": "code",
    "id": "ED5XB1_pxYqI"
   },
   "outputs": [],
   "source": [
    "import numpy as np\n",
    "import pandas as pd\n",
    "import networkx as nx\n",
    "import scipy.stats\n",
    "\n",
    "%matplotlib inline\n",
    "import matplotlib.pyplot as plt"
   ]
  },
  {
   "cell_type": "markdown",
   "metadata": {
    "colab_type": "text",
    "id": "WpI6dGgFxYqN"
   },
   "source": [
    "## Задачи исследования"
   ]
  },
  {
   "cell_type": "markdown",
   "metadata": {
    "ExecuteTime": {
     "end_time": "2018-09-17T06:52:20.681945Z",
     "start_time": "2018-09-17T06:52:20.667292Z"
    },
    "colab_type": "text",
    "id": "dVFmGvXJxYqP"
   },
   "source": [
    "Для исследования возьмите датасет социальных связей с сайта [NetworkRepository](http://networkrepository.com/soc.php). Выберите датасет размером не менее 3 Мб и впишите свой выбор (название вида `soc-*`\n",
    ") напротив фамилии в [форме](https://docs.google.com/spreadsheets/d/1V_36WnSxoSYTZ5ILrwCqqTd8SM0vXAha6t93nDAhtBc/edit?usp=sharing). Все датасеты должны быть уникальны в пределах группы.\n",
    "\n",
    "**Задание**\n",
    "\n",
    "1. Изучите библиотеку `networkx` и процесс построения графов в ней ([документация к библиотеке](https://networkx.github.io/documentation/stable/tutorial.html)). Загрузите выбранный граф социальных связей в ноутбук и выведите количество рёбер и узлов.\n",
    "2. Любым способом определите наиболее важный узел (человека) и наиболее важное ребро (связь между людьми) в сети.\n",
    "3. Определите, является ли граф связным.\n",
    "4. Определите степень графа.\n",
    "6. Проверьте теорию шести рукопожатий. Определите, какое минимальное и какое среднее количество рукопожатий связывает двух людей в графе.\n",
    "\n",
    "\n",
    "**Дополнительные задачи**\n",
    "\n",
    "1. Визуализируйте граф или наиболее существенную часть графа с помощью `networkx`\n",
    "\n",
    "\n",
    "_NB. Исследовательские задания подразумевают неоднозначную (!) интерпретацию поставленных задач и, следовательно, могут иметь более одного верного решения_"
   ]
  },
  {
   "cell_type": "markdown",
   "metadata": {
    "ExecuteTime": {
     "end_time": "2018-09-17T09:34:03.557099Z",
     "start_time": "2018-09-17T09:34:03.543672Z"
    },
    "colab_type": "text",
    "id": "6IkfLgUBxYqQ"
   },
   "source": [
    "Сдавать все результаты отправкой готового ноутбука персональным сообщением в [Rocket.Chat](https://chat.kazaryan.ml). Защита результатов проходит лично."
   ]
  },
  {
   "cell_type": "markdown",
   "metadata": {
    "colab_type": "text",
    "id": "tZfdZZpVxYqQ"
   },
   "source": [
    "## Исследование"
   ]
  },
  {
   "cell_type": "markdown",
   "metadata": {
    "colab_type": "text",
    "id": "LFZVWBjgxYqS"
   },
   "source": [
    "### 1.Нам необходимо заагрузить граф "
   ]
  },
  {
   "cell_type": "code",
   "execution_count": 2,
   "metadata": {
    "colab": {
     "base_uri": "https://localhost:8080/",
     "height": 297
    },
    "colab_type": "code",
    "id": "u342aTD4Nc72",
    "outputId": "32807ffe-faa2-4385-fac7-41ccf751a2ce"
   },
   "outputs": [
    {
     "name": "stdout",
     "output_type": "stream",
     "text": [
      "--2019-01-07 23:04:02--  http://nrvis.com/download/data/soc/soc-google-plus.zip\n",
      "Resolving nrvis.com... 173.236.156.25\n",
      "Connecting to nrvis.com|173.236.156.25|:80... connected.\n",
      "HTTP request sent, awaiting response... 200 OK\n",
      "Length: 6544810 (6.2M) [application/zip]\n",
      "Saving to: 'soc-google-plus.zip.7'\n",
      "\n",
      "soc-google-plus.zip 100%[===================>]   6.24M  4.03MB/s    in 1.6s    \n",
      "\n",
      "2019-01-07 23:04:04 (4.03 MB/s) - 'soc-google-plus.zip.7' saved [6544810/6544810]\n",
      "\n",
      "Archive:  soc-google-plus.zip\n",
      "  inflating: soc-google-plus.txt     \n",
      "  inflating: readme.html             \n"
     ]
    }
   ],
   "source": [
    "!wget http://nrvis.com/download/data/soc/soc-google-plus.zip \n",
    "!unzip -o soc-google-plus.zip"
   ]
  },
  {
   "cell_type": "markdown",
   "metadata": {
    "colab_type": "text",
    "id": "28ASAuwIXNSP"
   },
   "source": [
    "### 2.Первоначальная информация о графе:"
   ]
  },
  {
   "cell_type": "code",
   "execution_count": 3,
   "metadata": {
    "colab": {
     "base_uri": "https://localhost:8080/",
     "height": 107
    },
    "colab_type": "code",
    "id": "cxpL3I1uPKyC",
    "outputId": "52a8df0c-2356-404c-fa8e-22e2ea75b1f2"
   },
   "outputs": [
    {
     "name": "stdout",
     "output_type": "stream",
     "text": [
      "Name: \n",
      "Type: Graph\n",
      "Number of nodes: 211187\n",
      "Number of edges: 1143411\n",
      "Average degree:  10.8284\n"
     ]
    }
   ],
   "source": [
    "GPlus = nx.read_edgelist('soc-google-plus.txt', create_using=nx.Graph(), nodetype= int)\n",
    "print (nx.info(GPlus) )"
   ]
  },
  {
   "cell_type": "markdown",
   "metadata": {
    "colab_type": "text",
    "id": "yS-frghbXbhc"
   },
   "source": [
    "### Отрисовка графа \n",
    "#### Совет: Не запускать, отрисовывает граф полностью "
   ]
  },
  {
   "cell_type": "code",
   "execution_count": null,
   "metadata": {
    "colab": {},
    "colab_type": "code",
    "id": "gLG49QZnjCJJ"
   },
   "outputs": [],
   "source": [
    "from matplotlib import pylab \n",
    "import networkx as nx \n",
    "\n",
    "def save_graph(graph,file_name): \n",
    "    \n",
    "    plt.figure(num=None, figsize=(20, 20), dpi=80) \n",
    "    plt.axis('off') \n",
    "    fig = plt.figure(1) \n",
    "    pos = nx.spring_layout(graph) \n",
    "    nx.draw_networkx_nodes(graph,pos) \n",
    "    nx.draw_networkx_edges(graph,pos) \n",
    "    nx.draw_networkx_labels(graph,pos) \n",
    "\n",
    "    cut = 1.00 \n",
    "    xmax = cut * max(xx for xx, yy in pos.values()) \n",
    "    ymax = cut * max(yy for xx, yy in pos.values()) \n",
    "    plt.xlim(0, xmax) \n",
    "    plt.ylim(0, ymax) \n",
    " \n",
    "    plt.savefig(file_name,bbox_inches=\"tight\") \n",
    "    pylab.close() \n",
    "    del fig \n",
    "\n",
    "save_graph(GPlus,\"GPlus.png\") "
   ]
  },
  {
   "cell_type": "markdown",
   "metadata": {},
   "source": [
    "### 2.1 Самый важный узел "
   ]
  },
  {
   "cell_type": "markdown",
   "metadata": {},
   "source": [
    "### Мы будем находить важность узла по следующей формуле:\n",
    "<img src = 'Formula.png' height=100 weigth=100 >"
   ]
  },
  {
   "cell_type": "code",
   "execution_count": 3,
   "metadata": {},
   "outputs": [
    {
     "name": "stdout",
     "output_type": "stream",
     "text": [
      "По убыванию:\n"
     ]
    },
    {
     "data": {
      "text/plain": [
       "[(136198, 0.008475940640004545),\n",
       " (5381, 0.00719271163808207),\n",
       " (116002, 0.007098008390707717),\n",
       " (145647, 0.00663396247857339),\n",
       " (66836, 0.00645402630856212)]"
      ]
     },
     "execution_count": 3,
     "metadata": {},
     "output_type": "execute_result"
    }
   ],
   "source": [
    "from operator import itemgetter\n",
    "\n",
    "degs = nx.degree_centrality(GPlus)\n",
    "print('По убыванию:')\n",
    "sorted(degs.items(), key = itemgetter(1), reverse= True)[:5]"
   ]
  },
  {
   "cell_type": "code",
   "execution_count": 4,
   "metadata": {},
   "outputs": [
    {
     "name": "stdout",
     "output_type": "stream",
     "text": [
      "По возрастанию:\n"
     ]
    },
    {
     "data": {
      "text/plain": [
       "[(6, 4.735162368717623e-06),\n",
       " (7, 4.735162368717623e-06),\n",
       " (12, 4.735162368717623e-06),\n",
       " (37, 4.735162368717623e-06),\n",
       " (40, 4.735162368717623e-06)]"
      ]
     },
     "execution_count": 4,
     "metadata": {},
     "output_type": "execute_result"
    }
   ],
   "source": [
    "print('По возрастанию:')\n",
    "sorted(degs.items(), key = itemgetter(1), reverse= False)[:5]"
   ]
  },
  {
   "cell_type": "markdown",
   "metadata": {},
   "source": [
    "### 2.2 Наиболее  важное ребро "
   ]
  },
  {
   "cell_type": "code",
   "execution_count": null,
   "metadata": {},
   "outputs": [],
   "source": [
    "edge_importance = nx.edge_betweenness_centrality(GPlus)"
   ]
  },
  {
   "cell_type": "code",
   "execution_count": null,
   "metadata": {},
   "outputs": [],
   "source": [
    "sorted(edge_importance.items(), key = itemgetter(1))[:5]"
   ]
  },
  {
   "cell_type": "markdown",
   "metadata": {},
   "source": [
    "#### Данная функция возвращает список ребер, которые соединяет наибольшее количество узлов в графе. Пример такого ребра: \n",
    "\n",
    "<img src  ='978-1-4419-9863-7_5_Part_Fig1-874_HTML-2.gif' ></img>"
   ]
  },
  {
   "cell_type": "markdown",
   "metadata": {},
   "source": [
    "### Связный у нас граф? "
   ]
  },
  {
   "cell_type": "code",
   "execution_count": 5,
   "metadata": {},
   "outputs": [
    {
     "data": {
      "text/plain": [
       "False"
      ]
     },
     "execution_count": 5,
     "metadata": {},
     "output_type": "execute_result"
    }
   ],
   "source": [
    "nx.is_connected(GPlus)"
   ]
  },
  {
   "cell_type": "markdown",
   "metadata": {},
   "source": [
    "### Наш граф не является связным "
   ]
  },
  {
   "cell_type": "markdown",
   "metadata": {},
   "source": [
    "### Отрисовка графа случайно сгенерированного графа из исходного :"
   ]
  },
  {
   "cell_type": "code",
   "execution_count": 4,
   "metadata": {},
   "outputs": [],
   "source": [
    "import random"
   ]
  },
  {
   "cell_type": "code",
   "execution_count": 5,
   "metadata": {},
   "outputs": [],
   "source": [
    "lines = open('soc-google-plus.txt').read().splitlines()"
   ]
  },
  {
   "cell_type": "code",
   "execution_count": 6,
   "metadata": {},
   "outputs": [],
   "source": [
    "google = []\n",
    "for i in range(0,50):\n",
    "    google.append(str(random.randint(1,20000)))"
   ]
  },
  {
   "cell_type": "code",
   "execution_count": 7,
   "metadata": {},
   "outputs": [],
   "source": [
    "random_google = []\n",
    "for line in open('soc-google-plus.txt'):\n",
    "    rec = line.strip()\n",
    "    if rec.startswith(tuple(google)):\n",
    "        random_google.append(line)"
   ]
  },
  {
   "cell_type": "code",
   "execution_count": null,
   "metadata": {},
   "outputs": [
    {
     "name": "stdout",
     "output_type": "stream",
     "text": [
      "Name: \n",
      "Type: Graph\n",
      "Number of nodes: 13891\n",
      "Number of edges: 15726\n",
      "Average degree:   2.2642\n"
     ]
    },
    {
     "name": "stderr",
     "output_type": "stream",
     "text": [
      "/anaconda3/lib/python2.7/site-packages/networkx/drawing/layout.py:499: RuntimeWarning: invalid value encountered in sqrt\n",
      "  distance = np.sqrt((delta**2).sum(axis=0))\n"
     ]
    }
   ],
   "source": [
    "# Считывание\n",
    "GRandom = nx.read_edgelist(random_google, create_using=nx.Graph(), nodetype= int)\n",
    "print nx.info(GRandom)\n",
    "# Отрисовка\n",
    "plt.figure(num=None, figsize=(20, 20), dpi=80) \n",
    "pos_g = nx.spring_layout(GRandom ,iterations = 100)\n",
    "\n",
    "cons = nx.constraint(GRandom)\n",
    "\n",
    "plt.figure(figsize=(20,20))\n",
    "nsize = np.array ([1-v for v in cons.values()])\n",
    "\n",
    "nsize = 10**(nsize+1)\n",
    "\n",
    "nodes = nx.draw_networkx_nodes (GRandom , pos = pos_g , node_color=nsize, cmap=plt.cm.coolwarm,\n",
    "                                node_size = nsize)\n",
    "edges = nx.draw_networkx_edges (GRandom , pos = pos_g , \n",
    "                                alpha = .1)\n",
    "\n",
    "plt.axis('off')"
   ]
  },
  {
   "cell_type": "markdown",
   "metadata": {},
   "source": [
    "### Важно:\n",
    "#### Так как граф был получен случайным образом из исходного, о результатах мы можем  делать выводы с некоторой вероятностью "
   ]
  },
  {
   "cell_type": "markdown",
   "metadata": {},
   "source": [
    "### Теория шести рукопожатий"
   ]
  },
  {
   "cell_type": "code",
   "execution_count": null,
   "metadata": {},
   "outputs": [],
   "source": [
    "shortest = nx.all_pairs_shortest_path_length(GRandom)\n",
    "dist_each = dict(nx.all_pairs_shortest_path_length(GRandom))\n",
    "max_dist = [max(v.values()) for k,v in dist_each.items()]\n",
    "plt.hist(max_dist)\n",
    "plt.xlabel('Ugliest girls graphic');"
   ]
  },
  {
   "cell_type": "code",
   "execution_count": null,
   "metadata": {},
   "outputs": [],
   "source": []
  }
 ],
 "metadata": {
  "accelerator": "GPU",
  "colab": {
   "name": "GooglePlusAnalysis.ipynb",
   "provenance": [],
   "version": "0.3.2"
  },
  "kernelspec": {
   "display_name": "Python 2",
   "language": "python",
   "name": "python2"
  },
  "language_info": {
   "codemirror_mode": {
    "name": "ipython",
    "version": 2
   },
   "file_extension": ".py",
   "mimetype": "text/x-python",
   "name": "python",
   "nbconvert_exporter": "python",
   "pygments_lexer": "ipython2",
   "version": "2.7.15"
  }
 },
 "nbformat": 4,
 "nbformat_minor": 2
}
