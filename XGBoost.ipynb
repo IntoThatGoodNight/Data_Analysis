{
 "cells": [
  {
   "cell_type": "code",
   "execution_count": 2,
   "metadata": {},
   "outputs": [],
   "source": [
    "import pandas as pd \n",
    "import numpy as np \n",
    "import scipy.stats \n",
    "import seaborn as sns\n",
    "import matplotlib.pyplot as plt\n",
    "\n",
    "train = pd.read_csv('train.csv')\n",
    "test = pd.read_csv('test.csv')"
   ]
  },
  {
   "cell_type": "code",
   "execution_count": 3,
   "metadata": {},
   "outputs": [],
   "source": [
    "features = test.columns.values\n",
    "\n",
    "for feature in features:\n",
    "    mean, std = train[feature].mean(), train[feature].std()\n",
    "    train.loc[:, feature] = (train[feature] - mean) / std\n",
    "  "
   ]
  },
  {
   "cell_type": "code",
   "execution_count": 4,
   "metadata": {},
   "outputs": [],
   "source": [
    "for feature in features:\n",
    "    mean, std = test[feature].mean(), test[feature].std()  \n",
    "    test.loc[:, feature] = (test[feature] - mean) / std"
   ]
  },
  {
   "cell_type": "code",
   "execution_count": 5,
   "metadata": {},
   "outputs": [
    {
     "data": {
      "text/html": [
       "<div>\n",
       "<style scoped>\n",
       "    .dataframe tbody tr th:only-of-type {\n",
       "        vertical-align: middle;\n",
       "    }\n",
       "\n",
       "    .dataframe tbody tr th {\n",
       "        vertical-align: top;\n",
       "    }\n",
       "\n",
       "    .dataframe thead th {\n",
       "        text-align: right;\n",
       "    }\n",
       "</style>\n",
       "<table border=\"1\" class=\"dataframe\">\n",
       "  <thead>\n",
       "    <tr style=\"text-align: right;\">\n",
       "      <th></th>\n",
       "      <th>FEATURE_0</th>\n",
       "      <th>FEATURE_1</th>\n",
       "      <th>FEATURE_2</th>\n",
       "      <th>FEATURE_3</th>\n",
       "      <th>FEATURE_4</th>\n",
       "      <th>FEATURE_5</th>\n",
       "      <th>FEATURE_6</th>\n",
       "      <th>FEATURE_7</th>\n",
       "      <th>FEATURE_8</th>\n",
       "      <th>FEATURE_9</th>\n",
       "      <th>...</th>\n",
       "      <th>FEATURE_62</th>\n",
       "      <th>FEATURE_63</th>\n",
       "      <th>FEATURE_64</th>\n",
       "      <th>FEATURE_65</th>\n",
       "      <th>FEATURE_66</th>\n",
       "      <th>FEATURE_67</th>\n",
       "      <th>FEATURE_68</th>\n",
       "      <th>FEATURE_69</th>\n",
       "      <th>FEATURE_70</th>\n",
       "      <th>RESOLUTION</th>\n",
       "    </tr>\n",
       "  </thead>\n",
       "  <tbody>\n",
       "    <tr>\n",
       "      <th>count</th>\n",
       "      <td>3.120500e+04</td>\n",
       "      <td>3.120500e+04</td>\n",
       "      <td>3.146200e+04</td>\n",
       "      <td>3.146200e+04</td>\n",
       "      <td>8.010000e+03</td>\n",
       "      <td>8.010000e+03</td>\n",
       "      <td>3.152900e+04</td>\n",
       "      <td>7.515000e+03</td>\n",
       "      <td>3.257600e+04</td>\n",
       "      <td>3.257600e+04</td>\n",
       "      <td>...</td>\n",
       "      <td>3.257600e+04</td>\n",
       "      <td>3.257600e+04</td>\n",
       "      <td>3.231500e+04</td>\n",
       "      <td>3.231500e+04</td>\n",
       "      <td>3.231500e+04</td>\n",
       "      <td>3.231500e+04</td>\n",
       "      <td>3.231500e+04</td>\n",
       "      <td>3.231500e+04</td>\n",
       "      <td>1.617000e+04</td>\n",
       "      <td>32576.000000</td>\n",
       "    </tr>\n",
       "    <tr>\n",
       "      <th>mean</th>\n",
       "      <td>1.450068e-16</td>\n",
       "      <td>3.476113e-16</td>\n",
       "      <td>-7.113833e-17</td>\n",
       "      <td>1.560830e-16</td>\n",
       "      <td>-1.857302e-18</td>\n",
       "      <td>-3.548278e-17</td>\n",
       "      <td>1.179768e-16</td>\n",
       "      <td>8.716322e-17</td>\n",
       "      <td>-5.425399e-16</td>\n",
       "      <td>6.584430e-17</td>\n",
       "      <td>...</td>\n",
       "      <td>3.948147e-17</td>\n",
       "      <td>-1.283113e-17</td>\n",
       "      <td>-2.264697e-16</td>\n",
       "      <td>-2.046913e-16</td>\n",
       "      <td>-1.095333e-15</td>\n",
       "      <td>4.868044e-16</td>\n",
       "      <td>-4.235991e-16</td>\n",
       "      <td>-1.509649e-16</td>\n",
       "      <td>1.372777e-16</td>\n",
       "      <td>0.021089</td>\n",
       "    </tr>\n",
       "    <tr>\n",
       "      <th>std</th>\n",
       "      <td>1.000000e+00</td>\n",
       "      <td>1.000000e+00</td>\n",
       "      <td>1.000000e+00</td>\n",
       "      <td>1.000000e+00</td>\n",
       "      <td>1.000000e+00</td>\n",
       "      <td>1.000000e+00</td>\n",
       "      <td>1.000000e+00</td>\n",
       "      <td>1.000000e+00</td>\n",
       "      <td>1.000000e+00</td>\n",
       "      <td>1.000000e+00</td>\n",
       "      <td>...</td>\n",
       "      <td>1.000000e+00</td>\n",
       "      <td>1.000000e+00</td>\n",
       "      <td>1.000000e+00</td>\n",
       "      <td>1.000000e+00</td>\n",
       "      <td>1.000000e+00</td>\n",
       "      <td>1.000000e+00</td>\n",
       "      <td>1.000000e+00</td>\n",
       "      <td>1.000000e+00</td>\n",
       "      <td>1.000000e+00</td>\n",
       "      <td>0.143684</td>\n",
       "    </tr>\n",
       "    <tr>\n",
       "      <th>min</th>\n",
       "      <td>-9.535458e-01</td>\n",
       "      <td>-8.125447e-01</td>\n",
       "      <td>-1.856262e+00</td>\n",
       "      <td>-4.036410e-01</td>\n",
       "      <td>-5.110112e-01</td>\n",
       "      <td>-3.835754e-01</td>\n",
       "      <td>-1.459942e+00</td>\n",
       "      <td>-6.042637e-01</td>\n",
       "      <td>-8.743053e-02</td>\n",
       "      <td>-2.241542e-02</td>\n",
       "      <td>...</td>\n",
       "      <td>-6.127923e-02</td>\n",
       "      <td>-1.622244e-02</td>\n",
       "      <td>-8.042449e-01</td>\n",
       "      <td>-5.072484e-01</td>\n",
       "      <td>-6.097287e-01</td>\n",
       "      <td>-4.173365e-01</td>\n",
       "      <td>-7.216090e-01</td>\n",
       "      <td>-4.382041e-01</td>\n",
       "      <td>-1.174909e+00</td>\n",
       "      <td>0.000000</td>\n",
       "    </tr>\n",
       "    <tr>\n",
       "      <th>25%</th>\n",
       "      <td>-9.535458e-01</td>\n",
       "      <td>-8.125447e-01</td>\n",
       "      <td>-7.278329e-01</td>\n",
       "      <td>-4.034979e-01</td>\n",
       "      <td>-5.080466e-01</td>\n",
       "      <td>-3.803517e-01</td>\n",
       "      <td>-1.007126e+00</td>\n",
       "      <td>-6.042637e-01</td>\n",
       "      <td>-8.743053e-02</td>\n",
       "      <td>-2.190656e-02</td>\n",
       "      <td>...</td>\n",
       "      <td>-2.573830e-02</td>\n",
       "      <td>-1.594916e-02</td>\n",
       "      <td>-8.042449e-01</td>\n",
       "      <td>-5.072484e-01</td>\n",
       "      <td>-6.097287e-01</td>\n",
       "      <td>-4.173365e-01</td>\n",
       "      <td>-7.216090e-01</td>\n",
       "      <td>-4.382041e-01</td>\n",
       "      <td>-9.568532e-01</td>\n",
       "      <td>0.000000</td>\n",
       "    </tr>\n",
       "    <tr>\n",
       "      <th>50%</th>\n",
       "      <td>-4.306241e-01</td>\n",
       "      <td>-5.647561e-01</td>\n",
       "      <td>-8.678383e-02</td>\n",
       "      <td>-4.022457e-01</td>\n",
       "      <td>-4.942120e-01</td>\n",
       "      <td>-3.782828e-01</td>\n",
       "      <td>6.027035e-02</td>\n",
       "      <td>-6.042637e-01</td>\n",
       "      <td>-8.743053e-02</td>\n",
       "      <td>-2.088884e-02</td>\n",
       "      <td>...</td>\n",
       "      <td>-2.531317e-02</td>\n",
       "      <td>-1.559524e-02</td>\n",
       "      <td>-2.534985e-01</td>\n",
       "      <td>-5.072484e-01</td>\n",
       "      <td>-6.097287e-01</td>\n",
       "      <td>-4.173365e-01</td>\n",
       "      <td>-7.216090e-01</td>\n",
       "      <td>-4.382041e-01</td>\n",
       "      <td>-2.866047e-01</td>\n",
       "      <td>0.000000</td>\n",
       "    </tr>\n",
       "    <tr>\n",
       "      <th>75%</th>\n",
       "      <td>1.085849e+00</td>\n",
       "      <td>7.980807e-01</td>\n",
       "      <td>6.191217e-01</td>\n",
       "      <td>-3.826036e-01</td>\n",
       "      <td>-1.601725e-01</td>\n",
       "      <td>-3.202690e-01</td>\n",
       "      <td>9.826117e-01</td>\n",
       "      <td>1.567444e+00</td>\n",
       "      <td>-8.743053e-02</td>\n",
       "      <td>-1.783566e-02</td>\n",
       "      <td>...</td>\n",
       "      <td>-2.370192e-02</td>\n",
       "      <td>-1.496356e-02</td>\n",
       "      <td>2.972480e-01</td>\n",
       "      <td>6.405516e-01</td>\n",
       "      <td>2.796539e-01</td>\n",
       "      <td>-4.173365e-01</td>\n",
       "      <td>2.642198e-01</td>\n",
       "      <td>-4.382041e-01</td>\n",
       "      <td>1.010453e+00</td>\n",
       "      <td>0.000000</td>\n",
       "    </tr>\n",
       "    <tr>\n",
       "      <th>max</th>\n",
       "      <td>1.608771e+00</td>\n",
       "      <td>2.222865e+00</td>\n",
       "      <td>2.732934e+00</td>\n",
       "      <td>2.687538e+00</td>\n",
       "      <td>3.046436e+00</td>\n",
       "      <td>3.773452e+00</td>\n",
       "      <td>1.439018e+00</td>\n",
       "      <td>5.910860e+00</td>\n",
       "      <td>3.457706e+01</td>\n",
       "      <td>1.638803e+02</td>\n",
       "      <td>...</td>\n",
       "      <td>1.347235e+02</td>\n",
       "      <td>1.543752e+02</td>\n",
       "      <td>9.659938e+00</td>\n",
       "      <td>1.785755e+01</td>\n",
       "      <td>1.628854e+01</td>\n",
       "      <td>1.379552e+01</td>\n",
       "      <td>1.110834e+01</td>\n",
       "      <td>1.081672e+01</td>\n",
       "      <td>1.737862e+00</td>\n",
       "      <td>1.000000</td>\n",
       "    </tr>\n",
       "  </tbody>\n",
       "</table>\n",
       "<p>8 rows × 72 columns</p>\n",
       "</div>"
      ],
      "text/plain": [
       "          FEATURE_0     FEATURE_1     FEATURE_2     FEATURE_3     FEATURE_4  \\\n",
       "count  3.120500e+04  3.120500e+04  3.146200e+04  3.146200e+04  8.010000e+03   \n",
       "mean   1.450068e-16  3.476113e-16 -7.113833e-17  1.560830e-16 -1.857302e-18   \n",
       "std    1.000000e+00  1.000000e+00  1.000000e+00  1.000000e+00  1.000000e+00   \n",
       "min   -9.535458e-01 -8.125447e-01 -1.856262e+00 -4.036410e-01 -5.110112e-01   \n",
       "25%   -9.535458e-01 -8.125447e-01 -7.278329e-01 -4.034979e-01 -5.080466e-01   \n",
       "50%   -4.306241e-01 -5.647561e-01 -8.678383e-02 -4.022457e-01 -4.942120e-01   \n",
       "75%    1.085849e+00  7.980807e-01  6.191217e-01 -3.826036e-01 -1.601725e-01   \n",
       "max    1.608771e+00  2.222865e+00  2.732934e+00  2.687538e+00  3.046436e+00   \n",
       "\n",
       "          FEATURE_5     FEATURE_6     FEATURE_7     FEATURE_8     FEATURE_9  \\\n",
       "count  8.010000e+03  3.152900e+04  7.515000e+03  3.257600e+04  3.257600e+04   \n",
       "mean  -3.548278e-17  1.179768e-16  8.716322e-17 -5.425399e-16  6.584430e-17   \n",
       "std    1.000000e+00  1.000000e+00  1.000000e+00  1.000000e+00  1.000000e+00   \n",
       "min   -3.835754e-01 -1.459942e+00 -6.042637e-01 -8.743053e-02 -2.241542e-02   \n",
       "25%   -3.803517e-01 -1.007126e+00 -6.042637e-01 -8.743053e-02 -2.190656e-02   \n",
       "50%   -3.782828e-01  6.027035e-02 -6.042637e-01 -8.743053e-02 -2.088884e-02   \n",
       "75%   -3.202690e-01  9.826117e-01  1.567444e+00 -8.743053e-02 -1.783566e-02   \n",
       "max    3.773452e+00  1.439018e+00  5.910860e+00  3.457706e+01  1.638803e+02   \n",
       "\n",
       "           ...         FEATURE_62    FEATURE_63    FEATURE_64    FEATURE_65  \\\n",
       "count      ...       3.257600e+04  3.257600e+04  3.231500e+04  3.231500e+04   \n",
       "mean       ...       3.948147e-17 -1.283113e-17 -2.264697e-16 -2.046913e-16   \n",
       "std        ...       1.000000e+00  1.000000e+00  1.000000e+00  1.000000e+00   \n",
       "min        ...      -6.127923e-02 -1.622244e-02 -8.042449e-01 -5.072484e-01   \n",
       "25%        ...      -2.573830e-02 -1.594916e-02 -8.042449e-01 -5.072484e-01   \n",
       "50%        ...      -2.531317e-02 -1.559524e-02 -2.534985e-01 -5.072484e-01   \n",
       "75%        ...      -2.370192e-02 -1.496356e-02  2.972480e-01  6.405516e-01   \n",
       "max        ...       1.347235e+02  1.543752e+02  9.659938e+00  1.785755e+01   \n",
       "\n",
       "         FEATURE_66    FEATURE_67    FEATURE_68    FEATURE_69    FEATURE_70  \\\n",
       "count  3.231500e+04  3.231500e+04  3.231500e+04  3.231500e+04  1.617000e+04   \n",
       "mean  -1.095333e-15  4.868044e-16 -4.235991e-16 -1.509649e-16  1.372777e-16   \n",
       "std    1.000000e+00  1.000000e+00  1.000000e+00  1.000000e+00  1.000000e+00   \n",
       "min   -6.097287e-01 -4.173365e-01 -7.216090e-01 -4.382041e-01 -1.174909e+00   \n",
       "25%   -6.097287e-01 -4.173365e-01 -7.216090e-01 -4.382041e-01 -9.568532e-01   \n",
       "50%   -6.097287e-01 -4.173365e-01 -7.216090e-01 -4.382041e-01 -2.866047e-01   \n",
       "75%    2.796539e-01 -4.173365e-01  2.642198e-01 -4.382041e-01  1.010453e+00   \n",
       "max    1.628854e+01  1.379552e+01  1.110834e+01  1.081672e+01  1.737862e+00   \n",
       "\n",
       "         RESOLUTION  \n",
       "count  32576.000000  \n",
       "mean       0.021089  \n",
       "std        0.143684  \n",
       "min        0.000000  \n",
       "25%        0.000000  \n",
       "50%        0.000000  \n",
       "75%        0.000000  \n",
       "max        1.000000  \n",
       "\n",
       "[8 rows x 72 columns]"
      ]
     },
     "execution_count": 5,
     "metadata": {},
     "output_type": "execute_result"
    }
   ],
   "source": [
    "train.describe()"
   ]
  },
  {
   "cell_type": "code",
   "execution_count": 6,
   "metadata": {},
   "outputs": [],
   "source": [
    "train = train.fillna(0)"
   ]
  },
  {
   "cell_type": "code",
   "execution_count": 7,
   "metadata": {},
   "outputs": [],
   "source": [
    "train.shape[0]-train.count()\n",
    "X = train.iloc[:, train.columns != 'RESOLUTION']\n",
    "y= train.iloc[:, train.columns == 'RESOLUTION']"
   ]
  },
  {
   "cell_type": "code",
   "execution_count": 8,
   "metadata": {},
   "outputs": [],
   "source": [
    "X = np.array(X)\n",
    "y =np.array(y)"
   ]
  },
  {
   "cell_type": "code",
   "execution_count": 9,
   "metadata": {},
   "outputs": [],
   "source": [
    "from itertools import cycle\n",
    "import pandas as pd\n",
    "from xgboost import XGBClassifier\n",
    "from sklearn.model_selection import StratifiedKFold\n",
    "from scipy import interp\n",
    "from sklearn.model_selection import cross_val_score\n",
    "from sklearn.metrics import roc_curve, auc"
   ]
  },
  {
   "cell_type": "code",
   "execution_count": 10,
   "metadata": {},
   "outputs": [],
   "source": [
    "from scipy import interp"
   ]
  },
  {
   "cell_type": "code",
   "execution_count": 11,
   "metadata": {},
   "outputs": [
    {
     "name": "stdout",
     "output_type": "stream",
     "text": [
      "AUC: 0.942 (0.011)\n"
     ]
    }
   ],
   "source": [
    "model = XGBClassifier()\n",
    "kfold = StratifiedKFold(n_splits=7, random_state=7)\n",
    "scoring = 'roc_auc'\n",
    "results = cross_val_score(model, X, y.ravel(), cv=kfold, scoring = scoring)\n",
    "print( \"AUC: %.3f (%.3f)\" % (results.mean(), results.std()) )"
   ]
  },
  {
   "cell_type": "code",
   "execution_count": 12,
   "metadata": {},
   "outputs": [],
   "source": [
    "fig_size = plt.rcParams[\"figure.figsize\"] \n",
    "\n",
    "old_fig_params = fig_size\n",
    "fig_size[0] = 12\n",
    "fig_size[1] = 9\n",
    "   \n",
    "plt.rcParams[\"figure.figsize\"] = fig_size "
   ]
  },
  {
   "cell_type": "code",
   "execution_count": 13,
   "metadata": {},
   "outputs": [],
   "source": [
    "y=y.ravel()"
   ]
  },
  {
   "cell_type": "code",
   "execution_count": 14,
   "metadata": {},
   "outputs": [
    {
     "data": {
      "text/plain": [
       "(-0.05, 1.05)"
      ]
     },
     "execution_count": 14,
     "metadata": {},
     "output_type": "execute_result"
    },
    {
     "data": {
      "image/png": "[encoded data removed]",
      "text/plain": [
       "<Figure size 864x648 with 1 Axes>"
      ]
     },
     "metadata": {},
     "output_type": "display_data"
    }
   ],
   "source": [
    "mean_tpr = 0.0\n",
    "mean_fpr = np.linspace(0, 1, 100)\n",
    "\n",
    "colors = cycle(['cyan', 'indigo', 'seagreen', 'yellow', 'blue', 'darkorange'])\n",
    "lw = 2\n",
    "\n",
    "i = 0\n",
    "for (train, test), color in zip(kfold.split(X, y.ravel()), colors):\n",
    "    probas_ = model.fit(X[train], y[train]).predict_proba(X[test])\n",
    "    fpr, tpr, thresholds = roc_curve(y[test], probas_[:, 1])\n",
    "    mean_tpr += interp(mean_fpr, fpr, tpr)\n",
    "    mean_tpr[0] = 0.0\n",
    "    roc_auc = auc(fpr, tpr)\n",
    "    plt.plot(fpr, tpr, lw=lw, color=color,\n",
    "             label='ROC fold %d (area = %0.2f)' % (i, roc_auc))\n",
    "\n",
    "    i += 1\n",
    "plt.plot([0, 1], [0, 1], linestyle='--', lw=lw, color='k',\n",
    "         label='Luck')\n",
    "\n",
    "mean_tpr /= kfold.get_n_splits(X, y)\n",
    "mean_tpr[-1] = 1.0\n",
    "mean_auc = auc(mean_fpr, mean_tpr)\n",
    "plt.plot(mean_fpr, mean_tpr, color='g', linestyle='--',\n",
    "         label='Mean ROC (area = %0.2f)' % mean_auc, lw=lw)\n",
    "\n",
    "plt.xlim([-0.05, 1.05])\n",
    "plt.ylim([-0.05, 1.05])"
   ]
  },
  {
   "cell_type": "code",
   "execution_count": 17,
   "metadata": {},
   "outputs": [
    {
     "name": "stdout",
     "output_type": "stream",
     "text": [
      "0.9414639965041944\n"
     ]
    }
   ],
   "source": [
    "print mean_auc "
   ]
  },
  {
   "cell_type": "code",
   "execution_count": 20,
   "metadata": {},
   "outputs": [],
   "source": [
    "test = pd.read_csv('test.csv')\n",
    "test = test.fillna(0)\n",
    "for feature in features:\n",
    "    mean, std = test[feature].mean(), test[feature].std()  \n",
    "    test.loc[:, feature] = (test[feature] - mean) / std"
   ]
  },
  {
   "cell_type": "code",
   "execution_count": 29,
   "metadata": {},
   "outputs": [],
   "source": [
    "y_pred = model.predict_proba(data=np.array(test))[: , 1]"
   ]
  },
  {
   "cell_type": "code",
   "execution_count": null,
   "metadata": {},
   "outputs": [],
   "source": [
    "y_pred=np.array(y_pred).astype(int)\n",
    "np.savetxt('y_pred.csv',y_pred, delimiter=';')"
   ]
  },
  {
   "cell_type": "code",
   "execution_count": 30,
   "metadata": {},
   "outputs": [
    {
     "data": {
      "text/plain": [
       "array([0.03756703, 0.3154271 , 0.11236342, ..., 0.04772522, 0.8831477 ,\n",
       "       0.04729057], dtype=float32)"
      ]
     },
     "execution_count": 30,
     "metadata": {},
     "output_type": "execute_result"
    }
   ],
   "source": [
    "y_pred"
   ]
  },
  {
   "cell_type": "code",
   "execution_count": null,
   "metadata": {},
   "outputs": [],
   "source": [
    "np.count_nonzero(y_pred == 1)"
   ]
  }
 ],
 "metadata": {
  "kernelspec": {
   "display_name": "Python 2",
   "language": "python",
   "name": "python2"
  },
  "language_info": {
   "codemirror_mode": {
    "name": "ipython",
    "version": 2
   },
   "file_extension": ".py",
   "mimetype": "text/x-python",
   "name": "python",
   "nbconvert_exporter": "python",
   "pygments_lexer": "ipython2",
   "version": "2.7.15"
  }
 },
 "nbformat": 4,
 "nbformat_minor": 2
}
